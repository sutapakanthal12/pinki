{
 "cells": [
  {
   "cell_type": "code",
   "execution_count": 1,
   "id": "ad67de63-aa99-4886-acab-d61b0f6e2e1f",
   "metadata": {},
   "outputs": [
    {
     "name": "stdin",
     "output_type": "stream",
     "text": [
      "Enter the number: -6\n"
     ]
    },
    {
     "name": "stdout",
     "output_type": "stream",
     "text": [
      "The number is negetive\n"
     ]
    }
   ],
   "source": [
    "x=int(input(\"Enter the number:\"))\n",
    "if x<0 :\n",
    "    print(\"The number is negetive\")\n",
    "else :\n",
    "    print(\"The number is positive\")"
   ]
  },
  {
   "cell_type": "code",
   "execution_count": 2,
   "id": "b5f6a4c6-93ce-498f-b110-e3530e4d80a6",
   "metadata": {},
   "outputs": [
    {
     "name": "stdin",
     "output_type": "stream",
     "text": [
      "Enter the age: 14\n"
     ]
    },
    {
     "name": "stdout",
     "output_type": "stream",
     "text": [
      "The person is not eligible to vote.\n"
     ]
    }
   ],
   "source": [
    "x=int(input(\"Enter the age:\"))\n",
    "if x>=18 :\n",
    "    print(\"The person is eligible to vote.\")\n",
    "else :\n",
    "    print(\"The person is not eligible to vote.\")"
   ]
  },
  {
   "cell_type": "code",
   "execution_count": 3,
   "id": "80f3f06d-3b74-4c2f-9472-8a9c354405a4",
   "metadata": {},
   "outputs": [
    {
     "name": "stdin",
     "output_type": "stream",
     "text": [
      "Enter the number: 9\n",
      "Enter the number: 4\n"
     ]
    },
    {
     "name": "stdout",
     "output_type": "stream",
     "text": [
      "Maximum number is 9\n"
     ]
    }
   ],
   "source": [
    "x=int(input(\"Enter the number:\"))\n",
    "y=int(input(\"Enter the number:\"))\n",
    "if x>y:\n",
    "    print(\"Maximum number is\",x)\n",
    "else:\n",
    "    print(\"Maximum number is\",y)"
   ]
  },
  {
   "cell_type": "code",
   "execution_count": 4,
   "id": "af5ba861-e1d8-43a2-8c8a-198b1ff17808",
   "metadata": {},
   "outputs": [
    {
     "name": "stdin",
     "output_type": "stream",
     "text": [
      "Enter the year: 2000\n"
     ]
    },
    {
     "name": "stdout",
     "output_type": "stream",
     "text": [
      "The year is leap year\n"
     ]
    }
   ],
   "source": [
    "x=int(input(\"Enter the year:\"))\n",
    "if x%4==0 | x%400==0 :\n",
    "    print(\"The year is leap year\")\n",
    "else:\n",
    "    print(\"The year is not leap year\")"
   ]
  },
  {
   "cell_type": "code",
   "execution_count": 5,
   "id": "900f3fc1-40f4-43e1-a33a-f80a779493b8",
   "metadata": {},
   "outputs": [
    {
     "name": "stdin",
     "output_type": "stream",
     "text": [
      "Enter the char g\n"
     ]
    },
    {
     "name": "stdout",
     "output_type": "stream",
     "text": [
      "The char is consonant\n"
     ]
    }
   ],
   "source": [
    "char=input(\"Enter the char\")\n",
    "vowels=['a' 'e' 'i' 'o' 'u' 'A' 'E' 'I' 'O' 'U']\n",
    "if char in vowels:\n",
    "    print(\"The char is vowel.\")\n",
    "else:\n",
    "    print(\"The char is consonant\")    "
   ]
  },
  {
   "cell_type": "code",
   "execution_count": 6,
   "id": "04d10489-764e-490a-a368-70c7d7c6e5d2",
   "metadata": {},
   "outputs": [
    {
     "name": "stdin",
     "output_type": "stream",
     "text": [
      "Enter the number: -9\n"
     ]
    },
    {
     "name": "stdout",
     "output_type": "stream",
     "text": [
      "The number is odd\n"
     ]
    }
   ],
   "source": [
    "x=int(input(\"Enter the number:\"))\n",
    "if x%2==0:\n",
    "    print(\"The number is even\")\n",
    "else:\n",
    "    print(\"The number is odd\")"
   ]
  },
  {
   "cell_type": "code",
   "execution_count": 7,
   "id": "85d7c70d-401a-4fc9-809a-5cd7a7e7ede3",
   "metadata": {},
   "outputs": [
    {
     "name": "stdin",
     "output_type": "stream",
     "text": [
      "Enter the number: -5\n"
     ]
    },
    {
     "name": "stdout",
     "output_type": "stream",
     "text": [
      "The absolute value is: 5\n"
     ]
    }
   ],
   "source": [
    "x=int(input(\"Enter the number:\"))\n",
    "if x<0 :\n",
    "    print(\"The absolute value is:\",-x)\n",
    "else:\n",
    "    print(\"The absolute value is:\",x)"
   ]
  },
  {
   "cell_type": "code",
   "execution_count": 8,
   "id": "5a3a49cc-a0fd-4613-a7f4-c6ce93a77e03",
   "metadata": {},
   "outputs": [
    {
     "name": "stdin",
     "output_type": "stream",
     "text": [
      "Enter the number: 5\n",
      "Enter the number: 9\n",
      "Enter the number: 7\n"
     ]
    },
    {
     "name": "stdout",
     "output_type": "stream",
     "text": [
      "Largest number is: 9\n"
     ]
    }
   ],
   "source": [
    "x=int(input(\"Enter the number:\"))\n",
    "y=int(input(\"Enter the number:\"))\n",
    "z=int(input(\"Enter the number:\"))\n",
    "\n",
    "if (x>y and x>z):\n",
    "    print(\"Largest number is:\",x)\n",
    "elif (y>x and y>z):\n",
    "    print(\"Largest number is:\",y)\n",
    "else:\n",
    "    print(\"Largest number is:\",z)"
   ]
  },
  {
   "cell_type": "code",
   "execution_count": 15,
   "id": "c6ec0404-068e-476a-acb1-188cda90033b",
   "metadata": {},
   "outputs": [
    {
     "name": "stdin",
     "output_type": "stream",
     "text": [
      "Enter a string 34543\n"
     ]
    },
    {
     "name": "stdout",
     "output_type": "stream",
     "text": [
      "The string is a pailindrome\n"
     ]
    }
   ],
   "source": [
    "s1=input(\"Enter a string\")\n",
    "s1=s1.casefold()\n",
    "rev_s=reversed(s1)\n",
    "if list(s1)==list(rev_s):\n",
    "    print(\"The string is a pailindrome\")\n",
    "else:\n",
    "    print(\"The string is not a palindrome\") \n",
    "\n",
    "\n",
    "\n"
   ]
  },
  {
   "cell_type": "code",
   "execution_count": 16,
   "id": "0582229e-726d-4791-ab38-0e49e922cbe7",
   "metadata": {},
   "outputs": [
    {
     "name": "stdin",
     "output_type": "stream",
     "text": [
      "Enter the score 89\n"
     ]
    },
    {
     "name": "stdout",
     "output_type": "stream",
     "text": [
      "Student's grade is : E\n"
     ]
    }
   ],
   "source": [
    "x=int(input(\"Enter the score\"))\n",
    "if x>90 and x<=100 :\n",
    "    print(\"Student's grade is : O\")\n",
    "elif x>80 and x<=90 :\n",
    "    print(\"Student's grade is : E\")  \n",
    "elif x>70 and x<=80 :\n",
    "    print(\"Student's grade is : A\")  \n",
    "elif x>60 and x<=70 :\n",
    "    print(\"Student's grade is : B\")  \n",
    "elif x>50 and x<=40 :\n",
    "    print(\"Student's grade is : C\") \n",
    "else:\n",
    "    print(\"Student's grade is : D\")        "
   ]
  },
  {
   "cell_type": "code",
   "execution_count": 19,
   "id": "71099e08-cef6-42be-a0ea-9a226ae49f70",
   "metadata": {},
   "outputs": [
    {
     "name": "stdin",
     "output_type": "stream",
     "text": [
      "Enter the number: 5\n",
      "Enter the number: 9\n",
      "Enter the number: 8\n"
     ]
    },
    {
     "name": "stdout",
     "output_type": "stream",
     "text": [
      "The triangle is scalene\n"
     ]
    }
   ],
   "source": [
    "x=int(input(\"Enter the number:\"))\n",
    "y=int(input(\"Enter the number:\"))\n",
    "z=int(input(\"Enter the number:\"))\n",
    "\n",
    "if x==y==z :\n",
    "    print(\"The triangle is equilateral\")\n",
    "elif (y==x or y==z):\n",
    "    print(\"The triangle is isosceles\")\n",
    "else:\n",
    "    print(\"The triangle is scalene\")"
   ]
  },
  {
   "cell_type": "code",
   "execution_count": 20,
   "id": "b1d79ecf-146f-4f6c-b297-3b3d3698f51e",
   "metadata": {},
   "outputs": [
    {
     "name": "stdin",
     "output_type": "stream",
     "text": [
      "Enter the year: 2100\n"
     ]
    },
    {
     "name": "stdout",
     "output_type": "stream",
     "text": [
      "The year is leap year\n",
      "This year is  centure year\n"
     ]
    }
   ],
   "source": [
    "x=int(input(\"Enter the year:\"))\n",
    "if (x%4==0 or x%400==0):\n",
    "    print(\"The year is leap year\")\n",
    "else:\n",
    "    print(\"The year is not leap year\")\n",
    "if(x%100==0):\n",
    "     print(\"This year is  centure year\")\n",
    "else:\n",
    "    print(\"This year is not centure year\")"
   ]
  },
  {
   "cell_type": "code",
   "execution_count": 22,
   "id": "ec73e4d2-e9a5-4078-90ab-0a823fd07c21",
   "metadata": {},
   "outputs": [
    {
     "name": "stdin",
     "output_type": "stream",
     "text": [
      "Enter the number: 87\n"
     ]
    },
    {
     "name": "stdout",
     "output_type": "stream",
     "text": [
      "The number is positive.\n"
     ]
    }
   ],
   "source": [
    "x=int(input(\"Enter the number:\"))\n",
    "if x<0 :\n",
    "    print(\"The number is negetive\")\n",
    "elif x==0:\n",
    "    print(\"The number is zero\")\n",
    "else:\n",
    "    print(\"The number is positive.\")"
   ]
  },
  {
   "cell_type": "code",
   "execution_count": 23,
   "id": "2da84240-aa1d-4ff3-bfcf-6d52600ba359",
   "metadata": {},
   "outputs": [
    {
     "name": "stdin",
     "output_type": "stream",
     "text": [
      "Enter the age 16\n"
     ]
    },
    {
     "name": "stdout",
     "output_type": "stream",
     "text": [
      "The person is a teenager.\n"
     ]
    }
   ],
   "source": [
    "x=int(input(\"Enter the age\"))\n",
    "if x>13 and x<19 :\n",
    "    print(\"The person is a teenager.\")\n",
    "else:\n",
    "    print(\"The person is not a teenager\")"
   ]
  },
  {
   "cell_type": "code",
   "execution_count": 24,
   "id": "e5eead93-574c-45df-b3ab-bfd7d7bdc56a",
   "metadata": {},
   "outputs": [
    {
     "name": "stdin",
     "output_type": "stream",
     "text": [
      "Enter the angle: 96\n"
     ]
    },
    {
     "name": "stdout",
     "output_type": "stream",
     "text": [
      "The angle is obtuse\n"
     ]
    }
   ],
   "source": [
    "x=int(input(\"Enter the angle:\"))\n",
    "if x<90 :\n",
    "    print(\"The angle is acute\")\n",
    "elif x==90:\n",
    "    print(\"The angle is right\")\n",
    "else:\n",
    "    print(\"The angle is obtuse\")"
   ]
  },
  {
   "cell_type": "code",
   "execution_count": 25,
   "id": "a3455794-471d-496e-b2e5-4bc9dfffc212",
   "metadata": {},
   "outputs": [
    {
     "name": "stdin",
     "output_type": "stream",
     "text": [
      "Enter the day: 5\n"
     ]
    },
    {
     "name": "stdout",
     "output_type": "stream",
     "text": [
      "Friday\n"
     ]
    }
   ],
   "source": [
    "x=int(input(\"Enter the day:\"))\n",
    "if x==1:\n",
    "    print(\"Monday\")\n",
    "elif x==2:\n",
    "    print(\"Tuesday\")\n",
    "elif x==3:\n",
    "    print(\"Wednesday\")\n",
    "elif x==4:\n",
    "    print(\"Thersday\")\n",
    "elif x==5:\n",
    "    print(\"Friday\")  \n",
    "elif x==6:\n",
    "    print(\"saturday\")  \n",
    "elif x==7:\n",
    "    print(\"Sunday\")  \n",
    "else:\n",
    "    print(\"Not a valid day\")"
   ]
  },
  {
   "cell_type": "code",
   "execution_count": 26,
   "id": "da06c8d3-7221-4c94-8732-17a562171c6d",
   "metadata": {},
   "outputs": [
    {
     "name": "stdin",
     "output_type": "stream",
     "text": [
      "Enter the number: 2\n"
     ]
    },
    {
     "name": "stdout",
     "output_type": "stream",
     "text": [
      "The number is prime\n"
     ]
    }
   ],
   "source": [
    "x=int(input(\"Enter the number:\"))\n",
    "if x%2==0 and x!=2:\n",
    "    print(\"The number is not prime\")\n",
    "else:\n",
    "    print(\"The number is prime\")"
   ]
  },
  {
   "cell_type": "code",
   "execution_count": 27,
   "id": "ecc9d25f-8326-421f-96af-629be7395d8a",
   "metadata": {},
   "outputs": [
    {
     "name": "stdin",
     "output_type": "stream",
     "text": [
      "Enter the weight: 56\n"
     ]
    },
    {
     "name": "stdout",
     "output_type": "stream",
     "text": [
      "person's BMI into  normal\n"
     ]
    }
   ],
   "source": [
    "x=int(input(\"Enter the weight:\"))\n",
    "if x>60:\n",
    "    print(\"person's BMI into  overweight.\")\n",
    "elif x>40 and x<60:\n",
    "    print(\"person's BMI into  normal\")\n",
    "else:\n",
    "    print(\"person's BMI into underweight.\")"
   ]
  },
  {
   "cell_type": "code",
   "execution_count": 28,
   "id": "ddeff823-bbf4-4836-95e2-59108b4dc90b",
   "metadata": {},
   "outputs": [
    {
     "name": "stdin",
     "output_type": "stream",
     "text": [
      "Enter the number: -98\n"
     ]
    },
    {
     "name": "stdout",
     "output_type": "stream",
     "text": [
      "The number is negetive\n"
     ]
    }
   ],
   "source": [
    "x=int(input(\"Enter the number:\"))\n",
    "if x<0 :\n",
    "    print(\"The number is negetive\")\n",
    "elif x==0:\n",
    "    print(\"The number is zero\")\n",
    "else:\n",
    "    print(\"The number is positive.\")"
   ]
  },
  {
   "cell_type": "code",
   "execution_count": 30,
   "id": "4f88cc6e-b18b-447d-846f-c16b46f58910",
   "metadata": {},
   "outputs": [
    {
     "name": "stdin",
     "output_type": "stream",
     "text": [
      "Enter the char: r\n"
     ]
    },
    {
     "name": "stdout",
     "output_type": "stream",
     "text": [
      "The char  r  is Lowercase Alphabate\n"
     ]
    }
   ],
   "source": [
    "char=input(\"Enter the char:\")\n",
    "if (char.isupper()):\n",
    "    print(\"The char \", char,\"is Uppercase Alphabate\")\n",
    "elif(char.islower()):\n",
    "    print(\"The char \", char,\" is Lowercase Alphabate\")\n",
    "else:\n",
    "    print(\"The char is special\")"
   ]
  },
  {
   "cell_type": "code",
   "execution_count": 31,
   "id": "3563bf7e-57e9-4d04-a418-ec13c3fa1851",
   "metadata": {},
   "outputs": [
    {
     "name": "stdin",
     "output_type": "stream",
     "text": [
      "Enter the price: 700000\n",
      "Enter the discount of price: 60\n"
     ]
    },
    {
     "name": "stdout",
     "output_type": "stream",
     "text": [
      "The purchase amount is: 420000.0\n"
     ]
    }
   ],
   "source": [
    "x=int(input(\"Enter the price:\"))\n",
    "y=int(input(\"Enter the discount of price:\"))\n",
    "amount=(int(y)/100)*int(x)\n",
    "print(\"The purchase amount is:\",amount)"
   ]
  },
  {
   "cell_type": "code",
   "execution_count": 32,
   "id": "965135b5-15b7-4a5b-84fd-56aa7d7ce69d",
   "metadata": {},
   "outputs": [
    {
     "name": "stdin",
     "output_type": "stream",
     "text": [
      "Enter the number of units: 380\n"
     ]
    },
    {
     "name": "stdout",
     "output_type": "stream",
     "text": [
      "Electricity bill= 1300.0\n"
     ]
    }
   ],
   "source": [
    "units=int(input(\"Enter the number of units:\"))\n",
    "if(units<=100):\n",
    "    payAmount=units*1.5\n",
    "    charge=25.0\n",
    "elif(units<=200):\n",
    "    payAmount=(100*1.5)+(units-200)*2.5\n",
    "    charge=50\n",
    "elif(units<=300):\n",
    "    payAmount=(100*1.5)+((200-100)*2.5)+(units-200)*4\n",
    "    charge=70 \n",
    "elif(units<=400):\n",
    "    payAmount=(100*1.5)+((200-100)*2.5)+((300-200)*4)+(units-300)*5\n",
    "    charge=100 \n",
    "else:\n",
    "    payAmount=0\n",
    "    charge=1500\n",
    "Total=payAmount+charge\n",
    "print(\"Electricity bill=\",Total)"
   ]
  },
  {
   "cell_type": "code",
   "execution_count": null,
   "id": "8af39c6f-d4bd-408d-bf63-ae8d6d232c3e",
   "metadata": {},
   "outputs": [],
   "source": [
    "x=input(\"Enter the months name:\")\n",
    "if x==March or x== April :\n",
    "    print(\"This season is Spring.\")\n",
    "elif x==May or x== June :\n",
    "    print(\"This season is Summer.\") \n",
    "elif x==July or x==August :\n",
    "    print(\"This season is Monsoon.\")\n",
    "elif x==September' or x=='October' :\n",
    "    print(\"This season is Autumn.\")   \n",
    "elif x=='November' or  x=='December' :\n",
    "    print(\"This season is pre winter.\") \n",
    "elif x=='January' or x=='February' :\n",
    "    print(\"This season is Winter.\") \n",
    "else:\n",
    "    print(\"Month name is not valid.\")"
   ]
  },
  {
   "cell_type": "code",
   "execution_count": null,
   "id": "95df8afe-da50-4234-8a84-dab13b672015",
   "metadata": {},
   "outputs": [],
   "source": []
  }
 ],
 "metadata": {
  "kernelspec": {
   "display_name": "Python 3 (ipykernel)",
   "language": "python",
   "name": "python3"
  },
  "language_info": {
   "codemirror_mode": {
    "name": "ipython",
    "version": 3
   },
   "file_extension": ".py",
   "mimetype": "text/x-python",
   "name": "python",
   "nbconvert_exporter": "python",
   "pygments_lexer": "ipython3",
   "version": "3.10.8"
  }
 },
 "nbformat": 4,
 "nbformat_minor": 5
}
